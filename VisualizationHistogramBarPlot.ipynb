{
 "cells": [
  {
   "cell_type": "markdown",
   "id": "d95c84d4",
   "metadata": {},
   "source": [
    "# Визуализация в Python: гистограммы и столбчатые диаграммы"
   ]
  },
  {
   "cell_type": "code",
   "execution_count": null,
   "id": "7953e083",
   "metadata": {},
   "outputs": [],
   "source": [
    "import pandas as pd\n",
    "import seaborn as sns\n",
    "\n",
    "# Загрузим данные\n",
    "df_sleep=pd.read_csv('sleep75.csv')\n",
    "df_diamond=pd.read_csv('Diamond.csv')"
   ]
  },
  {
   "cell_type": "markdown",
   "id": "80c74674",
   "metadata": {},
   "source": [
    "Основные переменные в датафрейме `df_sleep`\n",
    "- `sleep`: продолжительность сна (мин/нед)\n",
    "- `totwrk`: рабочее время (мин/нед)\n",
    "- `age`: возраст (в годах)\n",
    "- `educ`: уровень образрвания в годах\n",
    "- `male`: гендерный фактор (бинарная, =1 для мужчин)\n",
    "- `south`: географический фактор (бинарная, =1 если живёт на юге)\n",
    "\n",
    "Основные переменные в датафрейме `df_diamond`\n",
    "- `carat`: вес бриллианта (в каратах)\n",
    "- `colour` : цвет (фактор с уровнями D,E,F,G,H,I)\n",
    "- `clarity`: прозрачность (фактор с уровнями IF, VVS1, VVS2, VS1, VS2)\n",
    "- `certification`: орган по сертификации (фактор с уровнями GIA, IGI, HRD)\n",
    "- `price`: цена в Сингапуре"
   ]
  },
  {
   "cell_type": "markdown",
   "id": "6dc96808",
   "metadata": {},
   "source": [
    "## Гистограммы"
   ]
  },
  {
   "cell_type": "code",
   "execution_count": null,
   "id": "00b30e7b",
   "metadata": {},
   "outputs": [],
   "source": [
    "# Базовая гистограмма\n",
    "sns.histplot(data=df_sleep, x='sleep')"
   ]
  },
  {
   "cell_type": "code",
   "execution_count": null,
   "id": "18782367",
   "metadata": {},
   "outputs": [],
   "source": [
    "# изменим тему\n",
    "sns.set_theme(style=\"whitegrid\")\n",
    "# Каждый столбец делится на два столбца в зависимости от бинарной переменной\n",
    "sns.histplot(data=df_sleep, x='sleep', hue='south')"
   ]
  },
  {
   "cell_type": "code",
   "execution_count": null,
   "id": "daba2ff2",
   "metadata": {},
   "outputs": [],
   "source": [
    "# Гистограмма с накоплением\n",
    "sns.histplot(data=df_sleep, x='totwrk', hue='male', multiple='stack')"
   ]
  },
  {
   "cell_type": "markdown",
   "id": "382ac9cf",
   "metadata": {},
   "source": [
    "# Столбчатая диаграмма"
   ]
  },
  {
   "cell_type": "code",
   "execution_count": null,
   "id": "93e8af4f",
   "metadata": {},
   "outputs": [],
   "source": [
    "# Базовая диаграмма\n",
    "sns.countplot(data=df_diamond, x='colour')"
   ]
  },
  {
   "cell_type": "code",
   "execution_count": null,
   "id": "84441365",
   "metadata": {},
   "outputs": [],
   "source": [
    "# Диаграмма с группировкой\n",
    "sns.countplot(data=df_diamond, x='clarity', hue='colour')"
   ]
  },
  {
   "cell_type": "code",
   "execution_count": null,
   "id": "ad549bda",
   "metadata": {},
   "outputs": [],
   "source": [
    "# Диаграмма с накоплением\n",
    "sns.countplot(data=df_diamond, x='colour', hue='certification', dodge=False)"
   ]
  },
  {
   "cell_type": "code",
   "execution_count": null,
   "id": "5c98372e",
   "metadata": {},
   "outputs": [],
   "source": [
    "# Линейчатая диаграмма с накоплением\n",
    "sns.countplot(data=df_diamond, y='certification', hue='clarity', dodge=False)"
   ]
  },
  {
   "cell_type": "code",
   "execution_count": null,
   "id": "0de2b528",
   "metadata": {},
   "outputs": [],
   "source": [
    "# Линейчатая диаграмма с группмровкой\n",
    "sns.countplot(data=df_diamond, y='clarity', hue='certification', dodge=True)"
   ]
  },
  {
   "cell_type": "code",
   "execution_count": null,
   "id": "b4bad081",
   "metadata": {},
   "outputs": [],
   "source": [
    "sns.countplot(data=df_diamond, x='colour', hue='certification', dodge=False)"
   ]
  }
 ],
 "metadata": {
  "kernelspec": {
   "display_name": "Python 3 (ipykernel)",
   "language": "python",
   "name": "python3"
  },
  "language_info": {
   "codemirror_mode": {
    "name": "ipython",
    "version": 3
   },
   "file_extension": ".py",
   "mimetype": "text/x-python",
   "name": "python",
   "nbconvert_exporter": "python",
   "pygments_lexer": "ipython3",
   "version": "3.9.15"
  }
 },
 "nbformat": 4,
 "nbformat_minor": 5
}
