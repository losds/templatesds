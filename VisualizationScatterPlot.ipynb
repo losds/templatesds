{
 "cells": [
  {
   "cell_type": "markdown",
   "id": "97614522",
   "metadata": {},
   "source": [
    "# Визулизация в Python: диаграмма рассеяния"
   ]
  },
  {
   "cell_type": "code",
   "execution_count": null,
   "id": "ae2139cd",
   "metadata": {},
   "outputs": [],
   "source": [
    "import pandas as pd\n",
    "import seaborn as sns\n",
    "\n",
    "# Загрузим данные\n",
    "df_sleep=pd.read_csv('sleep75.csv')\n",
    "df_diamond=pd.read_csv('Diamond.csv')"
   ]
  },
  {
   "cell_type": "markdown",
   "id": "0b16c9f8",
   "metadata": {},
   "source": [
    "Основные переменные в датафрейме `df_sleep`\n",
    "- `sleep`: продолжительность сна (мин/нед)\n",
    "- `totwrk`: рабочее время (мин/нед)\n",
    "- `age`: возраст (в годах)\n",
    "- `educ`: уровень образрвания в годах\n",
    "- `male`: гендерный фактор (бинарная, =1 для мужчин)\n",
    "- `south`: географический фактор (бинарная, =1 если живёт на юге)\n",
    "\n",
    "Основные переменные в датафрейме `df_diamond`\n",
    "- `carat`: вес бриллианта (в каратах)\n",
    "- `colour` : цвет (фактор с уровнями D,E,F,G,H,I)\n",
    "- `clarity`: прозрачность (фактор с уровнями IF, VVS1, VVS2, VS1, VS2)\n",
    "- `certification`: орган по сертификации (фактор с уровнями GIA, IGI, HRD)\n",
    "- `price`: цена в Сингапуре"
   ]
  },
  {
   "cell_type": "markdown",
   "id": "222b4060",
   "metadata": {},
   "source": [
    "## Методы библиотеки `pandas`"
   ]
  },
  {
   "cell_type": "code",
   "execution_count": null,
   "id": "51f9bac3",
   "metadata": {},
   "outputs": [],
   "source": [
    "# Базовый график\n",
    "df_sleep.plot.scatter(x='totwrk', y='sleep')"
   ]
  },
  {
   "cell_type": "markdown",
   "id": "573fb5d3",
   "metadata": {},
   "source": [
    "## Методы бибиотеки `seaborn`"
   ]
  },
  {
   "cell_type": "code",
   "execution_count": null,
   "id": "4891faa6",
   "metadata": {},
   "outputs": [],
   "source": [
    "# Базовый график\n",
    "sns.scatterplot(data=df_sleep, x='totwrk', y='sleep')"
   ]
  },
  {
   "cell_type": "code",
   "execution_count": null,
   "id": "af5854f7",
   "metadata": {},
   "outputs": [],
   "source": [
    "# Цвет каждого наблюдения зависит от бинарной переменной\n",
    "sns.scatterplot(data=df_sleep, x='totwrk', y='sleep', hue='male')"
   ]
  },
  {
   "cell_type": "code",
   "execution_count": null,
   "id": "bbc8feb5",
   "metadata": {},
   "outputs": [],
   "source": [
    "# Цвет и форма каждого наблюдения зависят от количественных и бинарных переменных\n",
    "sns.scatterplot(data=df_sleep, x='totwrk', y='sleep', hue='age', style='south')"
   ]
  },
  {
   "cell_type": "code",
   "execution_count": null,
   "id": "0f748f60",
   "metadata": {},
   "outputs": [],
   "source": [
    "sns.scatterplot(data=df_diamond, x='carat', y='price')"
   ]
  },
  {
   "cell_type": "code",
   "execution_count": null,
   "id": "382202df",
   "metadata": {},
   "outputs": [],
   "source": [
    "sns.scatterplot(data=df_diamond, x='carat', y='price', hue='colour')"
   ]
  },
  {
   "cell_type": "code",
   "execution_count": null,
   "id": "0928b6ae",
   "metadata": {},
   "outputs": [],
   "source": [
    "sns.scatterplot(data=df_diamond, x='carat', y='price', hue='certification', style='colour')"
   ]
  }
 ],
 "metadata": {
  "kernelspec": {
   "display_name": "Python 3 (ipykernel)",
   "language": "python",
   "name": "python3"
  },
  "language_info": {
   "codemirror_mode": {
    "name": "ipython",
    "version": 3
   },
   "file_extension": ".py",
   "mimetype": "text/x-python",
   "name": "python",
   "nbconvert_exporter": "python",
   "pygments_lexer": "ipython3",
   "version": "3.9.15"
  }
 },
 "nbformat": 4,
 "nbformat_minor": 5
}
