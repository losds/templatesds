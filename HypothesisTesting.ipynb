{
 "cells": [
  {
   "cell_type": "markdown",
   "id": "587a6297",
   "metadata": {},
   "source": [
    "# Тестирование гипотез в Python"
   ]
  },
  {
   "cell_type": "code",
   "execution_count": null,
   "id": "1355bd96",
   "metadata": {},
   "outputs": [],
   "source": [
    "import pandas as pd\n",
    "import scipy.stats as scs\n",
    "import statsmodels.stats.diagnostic as sm\n",
    "import seaborn as sns\n",
    "import pingouin as pg\n",
    "df = pd.read_csv('sleep75.csv')\n",
    "df.shape # Размер датасета"
   ]
  },
  {
   "cell_type": "markdown",
   "id": "2cce79ea",
   "metadata": {},
   "source": [
    "Основные переменные в датафрейме `df`\n",
    "- `sleep`: продолжительность сна (мин/нед)\n",
    "- `totwrk`: рабочее время (мин/нед)\n",
    "- `age`: возраст (в годах)\n",
    "- `educ`: уровень образрвания в годах\n",
    "- `male`: гендерный фактор (бинарная, =1 для мужчин)\n",
    "- `south`: географический фактор (бинарная, =1 если живёт на юге)"
   ]
  },
  {
   "cell_type": "code",
   "execution_count": null,
   "id": "2d3bb6cf",
   "metadata": {},
   "outputs": [],
   "source": [
    "df.shape[0] # Число наблюдений"
   ]
  },
  {
   "cell_type": "markdown",
   "id": "4d1cf94f",
   "metadata": {},
   "source": [
    "## Одновыборочный t-тест\n",
    "Для переменной `sleep` будем тестировать гипотезу $H_0:\\mu=3200$\n",
    "Уровень значимости выберем 5%"
   ]
  },
  {
   "cell_type": "code",
   "execution_count": null,
   "id": "e2ca6f2e",
   "metadata": {},
   "outputs": [],
   "source": [
    "# Первый способ с использованием библиотеки scipy.stats\n",
    "t_stat, p_val=scs.ttest_1samp(a=df['sleep'], popmean=3200)\n",
    "t_stat, p_val"
   ]
  },
  {
   "cell_type": "markdown",
   "id": "3beb2bc1",
   "metadata": {},
   "source": [
    "5%-критическое значение $t$-распределения со степенями свободы $n-1=705$"
   ]
  },
  {
   "cell_type": "code",
   "execution_count": null,
   "id": "4f1ba8da",
   "metadata": {},
   "outputs": [],
   "source": [
    "scs.t.ppf( q=1-0.05/2, df=df['sleep'].shape[0]-1 )"
   ]
  },
  {
   "cell_type": "code",
   "execution_count": null,
   "id": "32818d75",
   "metadata": {},
   "outputs": [],
   "source": [
    "# Второй способ с использованием бибиотеки pengouin\n",
    "pg.ttest(x=df['sleep'], y=3200)"
   ]
  },
  {
   "cell_type": "markdown",
   "id": "86a31cd9",
   "metadata": {},
   "source": [
    "**Вывод**: на выбранно уровне значимости тестируемая гипотеза отвергается ($|t|>t_{cr}$, p_val<5\\%)"
   ]
  },
  {
   "cell_type": "markdown",
   "id": "ceb330f3",
   "metadata": {},
   "source": [
    "## Двухвыборочный t-тест\n",
    "Разделим наблюдения по переменной `sleep` на две подвыборки относительно бинарной переменной `male`.\n",
    "Будем тестировать гипотезу о равенстве средних в генеральной совокупности $H_0:\\mu_{X}=\\mu_{Y}$ при **допущении неравенства дисперсий**. Уровень значимости выберем 1%"
   ]
  },
  {
   "cell_type": "code",
   "execution_count": null,
   "id": "8206d964",
   "metadata": {},
   "outputs": [],
   "source": [
    "# Первый способ с использованием библиотеки scipy.stats\n",
    "X = df[ df['male']==1 ]['sleep']\n",
    "Y = df[ df['male']==0 ]['sleep']\n",
    "t_stat, p_val=scs.ttest_ind(a=X, b=Y, equal_var=False)\n",
    "t_stat, p_val"
   ]
  },
  {
   "cell_type": "code",
   "execution_count": null,
   "id": "a548a173",
   "metadata": {},
   "outputs": [],
   "source": [
    "# Второй способ с использованием бибиотеки pengouin\n",
    "pg.ttest(x=X,y=Y)"
   ]
  },
  {
   "cell_type": "markdown",
   "id": "f8e16476",
   "metadata": {},
   "source": [
    "1%-критическое значение $t$-распределения со степенями свободы $$df=\\frac{\\left(s_X^2/n+s_Y^2/m\\right)^2}{\\frac{(s^2_X/n)^2}{n-1}+\\frac{(s^2_Y/m)^2}{m-1}} $$"
   ]
  },
  {
   "cell_type": "code",
   "execution_count": null,
   "id": "bf4a4733",
   "metadata": {},
   "outputs": [],
   "source": [
    "s_X=X.std()\n",
    "s_Y=Y.std()\n",
    "n=X.shape[0]\n",
    "m=Y.shape[0]\n",
    "# степени свободы\n",
    "dof=((s_X**2)/n+(s_Y**2)/m)**2 /( ((s_X**2)/n)**2/(n-1)+((s_Y**2)/m)**2/(m-1) )\n",
    "# критическое значение t-распределения\n",
    "t_cr=scs.t.ppf( q=1-0.05/2, df=dof )\n",
    "t_cr, dof"
   ]
  },
  {
   "cell_type": "markdown",
   "id": "8abe7fc8",
   "metadata": {},
   "source": [
    "## Значимость корреляции\n",
    "Проверим значимость корреляции между переменными `sleep` и `totwrk`. Уровень значимости выберем 10%"
   ]
  },
  {
   "cell_type": "code",
   "execution_count": null,
   "id": "8085f39f",
   "metadata": {},
   "outputs": [],
   "source": [
    "# Первый способ с использованием библиотеки scipy.stats\n",
    "t_stat, p_val=scs.pearsonr(x=df['sleep'], y=df['totwrk'])\n",
    "t_stat, p_val"
   ]
  },
  {
   "cell_type": "code",
   "execution_count": null,
   "id": "aaf743bf",
   "metadata": {},
   "outputs": [],
   "source": [
    "# Второй способ с использованием бибиотеки pingouin\n",
    "pg.corr(x=df['sleep'], y=df['totwrk'])"
   ]
  },
  {
   "cell_type": "markdown",
   "id": "446421f4",
   "metadata": {},
   "source": [
    "10%-критическое значение $t$-распределения со степенями свободы $n-2=704$"
   ]
  },
  {
   "cell_type": "code",
   "execution_count": null,
   "id": "2a1cbfff",
   "metadata": {},
   "outputs": [],
   "source": [
    "scs.t.ppf( q=1-0.10/2, df=df['sleep'].shape[0]-2 )"
   ]
  },
  {
   "cell_type": "markdown",
   "id": "d44e3fe2",
   "metadata": {},
   "source": [
    "**Вывод**: корреляция значима"
   ]
  },
  {
   "cell_type": "markdown",
   "id": "e503d52f",
   "metadata": {},
   "source": [
    "Проверим значимость корреляции между переменными `age` и `totwrk`."
   ]
  },
  {
   "cell_type": "code",
   "execution_count": null,
   "id": "830ecf45",
   "metadata": {},
   "outputs": [],
   "source": [
    "t_stat, p_val=scs.pearsonr(x=df['age'], y=df['totwrk'])\n",
    "t_stat, p_val"
   ]
  },
  {
   "cell_type": "code",
   "execution_count": null,
   "id": "0c971fbb",
   "metadata": {},
   "outputs": [],
   "source": [
    "# Второй способ с использованием бибиотеки pengouin\n",
    "pg.corr(x=df['age'], y=df['totwrk'])"
   ]
  },
  {
   "cell_type": "markdown",
   "id": "dc7117d0",
   "metadata": {},
   "source": [
    "**Вывод**: корреляция незначима (критическое значение тоже)"
   ]
  },
  {
   "cell_type": "code",
   "execution_count": null,
   "id": "d8d59d14",
   "metadata": {},
   "outputs": [],
   "source": [
    "# Визц=уализация корреляционной матрицы\n",
    "sns.heatmap(df[['sleep', 'totwrk', 'age', 'educ']].corr(), annot = True)"
   ]
  },
  {
   "cell_type": "markdown",
   "id": "c0332827",
   "metadata": {},
   "source": [
    "## Одновыборочный тест Колмогорова-Смирнова на сравнение с нормальным распределением\n",
    "Для переменной `sleep`"
   ]
  },
  {
   "cell_type": "code",
   "execution_count": null,
   "id": "b10e1919",
   "metadata": {},
   "outputs": [],
   "source": [
    "sm.lilliefors(df['sleep'], dist='norm')"
   ]
  },
  {
   "cell_type": "markdown",
   "id": "ac85ef70",
   "metadata": {},
   "source": [
    "5%-критическое значение $\\lambda_{cr}=0.886$.\n",
    "**Вывод**: гипотеза отвергается"
   ]
  },
  {
   "cell_type": "code",
   "execution_count": null,
   "id": "0e2b8c87",
   "metadata": {},
   "outputs": [],
   "source": [
    "# Эмпирическая функция распределения для sleep\n",
    "sns.ecdfplot(df, x='sleep')"
   ]
  },
  {
   "cell_type": "markdown",
   "id": "df152d58",
   "metadata": {},
   "source": [
    "## Двухвыборочный тест Колмогорова-Смирнова\n",
    "Разделим наблюдения по переменной `sleep` на две подвыборки относительно бинарной переменной `male`. Потестируем гипотезу об одинаковой распределённости эти выборок"
   ]
  },
  {
   "cell_type": "code",
   "execution_count": null,
   "id": "b7eeb00f",
   "metadata": {},
   "outputs": [],
   "source": [
    "X = df[ df['male']==1 ]['sleep']\n",
    "Y = df[ df['male']==0 ]['sleep']\n",
    "stat, p_val=scs.ks_2samp(X,Y)\n",
    "stat, p_val"
   ]
  },
  {
   "cell_type": "markdown",
   "id": "e1d1496b",
   "metadata": {},
   "source": [
    "5%-критическое значени $\\lambda_{cr}=1.36$. \n",
    "**Вывод**: тестируемая гипоза не отвергается"
   ]
  },
  {
   "cell_type": "code",
   "execution_count": null,
   "id": "a0ca6f3b",
   "metadata": {},
   "outputs": [],
   "source": [
    "sns.ecdfplot(df, x='sleep', hue='male')"
   ]
  },
  {
   "cell_type": "markdown",
   "id": "19d335d2",
   "metadata": {},
   "source": [
    "Разделим наблюдения по переменной `totwrk` на две подвыборки относительно бинарной переменной `south`. Потестируем гипотезу об одинаковой распределённости эти выборок"
   ]
  },
  {
   "cell_type": "code",
   "execution_count": null,
   "id": "b5afdce6",
   "metadata": {},
   "outputs": [],
   "source": [
    "X = df[ df['south']==1 ]['totwrk']\n",
    "Y = df[ df['south']==0 ]['totwrk']\n",
    "stat, p_val=scs.ks_2samp(X,Y)\n",
    "stat, p_val"
   ]
  },
  {
   "cell_type": "markdown",
   "id": "567050e3",
   "metadata": {},
   "source": [
    "Критическое значение такое же. Гипотеза не отвергается\n"
   ]
  },
  {
   "cell_type": "code",
   "execution_count": null,
   "id": "7c88113d",
   "metadata": {},
   "outputs": [],
   "source": [
    "# Эмпириеские функции распределения для totwrk с разделением по бинраной переменной south\n",
    "sns.ecdfplot(df, x='totwrk', hue='south')"
   ]
  }
 ],
 "metadata": {
  "kernelspec": {
   "display_name": "Python 3 (ipykernel)",
   "language": "python",
   "name": "python3"
  },
  "language_info": {
   "codemirror_mode": {
    "name": "ipython",
    "version": 3
   },
   "file_extension": ".py",
   "mimetype": "text/x-python",
   "name": "python",
   "nbconvert_exporter": "python",
   "pygments_lexer": "ipython3",
   "version": "3.9.15"
  }
 },
 "nbformat": 4,
 "nbformat_minor": 5
}
