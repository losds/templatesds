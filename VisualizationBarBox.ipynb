{
 "cells": [
  {
   "cell_type": "markdown",
   "id": "d46a894f",
   "metadata": {},
   "source": [
    "# Визуализация в Python"
   ]
  },
  {
   "cell_type": "code",
   "execution_count": null,
   "id": "13bb8989",
   "metadata": {},
   "outputs": [],
   "source": [
    "import pandas as pd\n",
    "import seaborn as sns\n",
    "import matplotlib.pyplot as plt"
   ]
  },
  {
   "cell_type": "markdown",
   "id": "1457321e",
   "metadata": {},
   "source": [
    "## Круговая и кольцевая диаграмма\n",
    "создадим датафрейм по доли рынка мобильных телефонов"
   ]
  },
  {
   "cell_type": "code",
   "execution_count": null,
   "id": "f1bae0d9",
   "metadata": {},
   "outputs": [],
   "source": [
    "df_phones = pd.DataFrame(data={'brand':[\"Samsung\",\"Huawei\",\"Apple\",\"Xiaomi\",\"OPPO\",\"Other\"], \n",
    "                               'share':[.2090,.1580,.1210,.0930,.0870,.3320]})\n",
    "df_phones"
   ]
  },
  {
   "cell_type": "code",
   "execution_count": null,
   "id": "89fac65f",
   "metadata": {},
   "outputs": [],
   "source": [
    "# Круговая диаграмма\n",
    "plt.pie(df_phones['share'], labels=df_phones['brand'])\n",
    "plt.title('Доля рынка телефонов')\n",
    "plt.show()"
   ]
  },
  {
   "cell_type": "code",
   "execution_count": null,
   "id": "da848d8f",
   "metadata": {},
   "outputs": [],
   "source": [
    "# Изменим цветовую гамму с сипользованием метода .color_palette()\n",
    "plt.pie(df_phones['share'], labels=df_phones['brand'], \n",
    "        colors=sns.color_palette('pastel')[ 0:len(df_phones['brand']) ], autopct='%.0f%%' )\n",
    "plt.title('Доля рынка телефонов')\n",
    "plt.show()"
   ]
  },
  {
   "cell_type": "code",
   "execution_count": null,
   "id": "840fddc1",
   "metadata": {},
   "outputs": [],
   "source": [
    "# Кольцевая диаграмма (вырезаем 0.50 круг в центре)\n",
    "plt.pie(df_phones['share'], labels=df_phones['brand'])\n",
    "centre_circle = plt.Circle((0, 0), 0.50, fc='white')\n",
    "fig = plt.gcf()\n",
    "fig.gca().add_artist(centre_circle)\n",
    "plt.title('Доля рынка телефонов')\n",
    "plt.show()"
   ]
  },
  {
   "cell_type": "markdown",
   "id": "1275d271",
   "metadata": {},
   "source": [
    "## Коробчатая диаграмма"
   ]
  },
  {
   "cell_type": "code",
   "execution_count": null,
   "id": "be85314a",
   "metadata": {},
   "outputs": [],
   "source": [
    "# Загрузим данные\n",
    "df_diamond=pd.read_csv('Diamond.csv')\n",
    "# зададим тему\n",
    "sns.set_theme( palette=\"pastel\")\n",
    "# горизонтальная коробчатая диаграмма\n",
    "sns.boxplot(x='carat', data=df_diamond)"
   ]
  },
  {
   "cell_type": "code",
   "execution_count": null,
   "id": "57b43362",
   "metadata": {},
   "outputs": [],
   "source": [
    "# Вертикальная коробчатая диаграмма с группировкой\n",
    "sns.boxplot(y='price', x='colour', data=df_diamond)\n",
    "sns.despine(offset=10, trim=True)"
   ]
  },
  {
   "cell_type": "code",
   "execution_count": null,
   "id": "a2794aaa",
   "metadata": {},
   "outputs": [],
   "source": [
    "# Загрузим данные\n",
    "df_sleep=pd.read_csv('sleep75.csv')\n",
    "# Коробчатая диаграмма с двойной группировкой\n",
    "sns.boxplot(y='sleep', hue='male', x='south', data=df_sleep)"
   ]
  }
 ],
 "metadata": {
  "kernelspec": {
   "display_name": "Python 3 (ipykernel)",
   "language": "python",
   "name": "python3"
  },
  "language_info": {
   "codemirror_mode": {
    "name": "ipython",
    "version": 3
   },
   "file_extension": ".py",
   "mimetype": "text/x-python",
   "name": "python",
   "nbconvert_exporter": "python",
   "pygments_lexer": "ipython3",
   "version": "3.9.15"
  }
 },
 "nbformat": 4,
 "nbformat_minor": 5
}
