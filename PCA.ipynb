{
 "cells": [
  {
   "cell_type": "markdown",
   "id": "3cc10092",
   "metadata": {},
   "source": [
    "# Метод главных компонент"
   ]
  },
  {
   "cell_type": "code",
   "execution_count": null,
   "id": "35b4a402",
   "metadata": {
    "scrolled": true
   },
   "outputs": [],
   "source": [
    "import pandas as pd\n",
    "import numpy as np\n",
    "from sklearn.decomposition import PCA # Метод главных компонент\n",
    "from sklearn import preprocessing  # функция для предварительной обработки данных\n",
    "import matplotlib.pyplot as plt  #импотируем подбиблиотеку и даем ей имя\n",
    "import matplotlib    # для рисования\n",
    "df = pd.read_csv('Labour.csv')"
   ]
  },
  {
   "cell_type": "markdown",
   "id": "bddf1f99",
   "metadata": {},
   "source": [
    "Основные переменные в датафрейме `df` (данные по бельгийским фирмам за 1996 г.)\n",
    "- `capital`:капитал (в млн евро)\n",
    "- `labour`: число сотрудников\n",
    "- `output`: выпуск (в млн евро)\n",
    "- `wage`: зарплата на одного сотрудника (в тыс евро)"
   ]
  },
  {
   "cell_type": "code",
   "execution_count": null,
   "id": "e4698359",
   "metadata": {},
   "outputs": [],
   "source": [
    "df.head()"
   ]
  },
  {
   "cell_type": "markdown",
   "id": "24d305f4",
   "metadata": {},
   "source": [
    "Нормализация данных"
   ]
  },
  {
   "cell_type": "code",
   "execution_count": null,
   "id": "332a9cc3",
   "metadata": {},
   "outputs": [],
   "source": [
    "scaler=preprocessing.StandardScaler().fit(df)  # специфицируем стандартизацию\n",
    "data_rescaled=scaler.transform(df)  # применяем эту стандарти "
   ]
  },
  {
   "cell_type": "markdown",
   "id": "930361e1",
   "metadata": {},
   "source": [
    "## Выделение главных компонент\n",
    "Выделим ГК и выведем \n",
    "- дисперсии главных компонент нормированные на сумму дисперсий всех компонент \n",
    "- накопленную сумму этих дисперсий"
   ]
  },
  {
   "cell_type": "code",
   "execution_count": null,
   "id": "5f80b33c",
   "metadata": {},
   "outputs": [],
   "source": [
    "pca = PCA().fit(data_rescaled)\n",
    "print(pca.explained_variance_ratio_)\n",
    "print(np.cumsum(pca.explained_variance_ratio_) )"
   ]
  },
  {
   "cell_type": "markdown",
   "id": "22055143",
   "metadata": {},
   "source": [
    "**Вывод**: первые две компоненты объясняются **>95% вариации**"
   ]
  },
  {
   "cell_type": "markdown",
   "id": "3a02068e",
   "metadata": {},
   "source": [
    "Графический выбор числа ГК"
   ]
  },
  {
   "cell_type": "code",
   "execution_count": null,
   "id": "b61f97ba",
   "metadata": {},
   "outputs": [],
   "source": [
    "plt.rcParams[\"figure.figsize\"] = (12,6)\n",
    "\n",
    "fig, ax = plt.subplots()\n",
    "n=df.shape[1]\n",
    "xi = np.arange(1, n+1, step=1)\n",
    "y = np.cumsum(pca.explained_variance_ratio_)\n",
    "\n",
    "plt.ylim(0.0,1.1)\n",
    "\n",
    "plt.plot(xi, y, linestyle='--', color='b')\n",
    "plt.xlabel('Number of Components')\n",
    "plt.xticks(np.arange(0, 11, step=1)) #change from 0-based array index to 1-based human-readable label\n",
    "plt.ylabel('Cumulative variance (%)')\n",
    "plt.title('The number of components needed to explain variance')\n",
    "\n",
    "plt.axhline(y=0.95, color='r', linestyle='-')\n",
    "plt.text(0.5, 0.85, '95% cut-off threshold', color = 'red', fontsize=16)\n",
    "\n",
    "ax.grid(axis='x')\n",
    "plt.show()"
   ]
  },
  {
   "cell_type": "markdown",
   "id": "3b8ae8c4",
   "metadata": {},
   "source": [
    "Выделем первые две компоненты и визуализаируем в них данные"
   ]
  },
  {
   "cell_type": "code",
   "execution_count": null,
   "id": "cff33d30",
   "metadata": {},
   "outputs": [],
   "source": [
    "pca=PCA(n_components=2)\n",
    "pca.fit(data_rescaled)\n",
    "data_pca = pca.transform(data_rescaled)\n",
    "df_pca = pd.DataFrame(data=data_pca, columns = ['principal component 1', 'principal component 2'])\n",
    "df_pca"
   ]
  },
  {
   "cell_type": "code",
   "execution_count": null,
   "id": "a2ba795a",
   "metadata": {},
   "outputs": [],
   "source": [
    "df_pca.plot.scatter('principal component 1', 'principal component 2')"
   ]
  }
 ],
 "metadata": {
  "kernelspec": {
   "display_name": "Python 3 (ipykernel)",
   "language": "python",
   "name": "python3"
  },
  "language_info": {
   "codemirror_mode": {
    "name": "ipython",
    "version": 3
   },
   "file_extension": ".py",
   "mimetype": "text/x-python",
   "name": "python",
   "nbconvert_exporter": "python",
   "pygments_lexer": "ipython3",
   "version": "3.9.15"
  }
 },
 "nbformat": 4,
 "nbformat_minor": 5
}
