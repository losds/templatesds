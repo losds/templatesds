{
 "cells": [
  {
   "cell_type": "markdown",
   "id": "79f34ad0",
   "metadata": {},
   "source": [
    "# Описательные статистики"
   ]
  },
  {
   "cell_type": "code",
   "execution_count": null,
   "id": "44e04a9a",
   "metadata": {},
   "outputs": [],
   "source": [
    "import statistics\n",
    "import pandas as pd\n",
    "df = pd.read_csv('sleep75.csv')\n",
    "df.shape, df.size"
   ]
  },
  {
   "cell_type": "markdown",
   "id": "22674c6f",
   "metadata": {},
   "source": [
    "Основные переменные в датафрейме `df`\n",
    "- `sleep`: продолжительность сна (мин/нед)\n",
    "- `totwrk`: рабочее время (мин/нед)\n",
    "- `age`: возраст (в годах)\n",
    "- `educ`: уровень образрвания в годах\n",
    "- `male`: гендерный фактор (бинарная, =1 для мужчин)\n",
    "- `south`: географический фактор (бинарная, =1 если живёт на юге)"
   ]
  },
  {
   "cell_type": "code",
   "execution_count": null,
   "id": "8c0cc60f",
   "metadata": {},
   "outputs": [],
   "source": [
    "df.shape, df.size"
   ]
  },
  {
   "cell_type": "markdown",
   "id": "61fb2c71",
   "metadata": {},
   "source": [
    "Для удобства создадим новый дата фрейм `df1` с количественными переменными: `sleep, totwrk, age`, `educ`"
   ]
  },
  {
   "cell_type": "code",
   "execution_count": null,
   "id": "2ec50777",
   "metadata": {},
   "outputs": [],
   "source": [
    "df1 = df[['sleep', 'totwrk', 'age', 'educ']]\n",
    "df1.head(n=6)"
   ]
  },
  {
   "cell_type": "markdown",
   "id": "8e5bafa5",
   "metadata": {},
   "source": [
    "## Основные описательные статистики по переменным дата фрейма\n",
    "метод `.descrive()` из библиотеки `pandas`"
   ]
  },
  {
   "cell_type": "code",
   "execution_count": null,
   "id": "7743383f",
   "metadata": {},
   "outputs": [],
   "source": [
    "df1.describe()"
   ]
  },
  {
   "cell_type": "markdown",
   "id": "19569365",
   "metadata": {},
   "source": [
    "## Корреляции и ковариации\n",
    "Методы `.cov()` и `.corr()` из библиотеки `pandas` вычисляют ковариационну и корреляционную матрицы соответственно для переменных из датафрейма"
   ]
  },
  {
   "cell_type": "code",
   "execution_count": null,
   "id": "c465f6ff",
   "metadata": {},
   "outputs": [],
   "source": [
    "df1.cov()"
   ]
  },
  {
   "cell_type": "code",
   "execution_count": null,
   "id": "b97a990a",
   "metadata": {},
   "outputs": [],
   "source": [
    "# round( df1.corr(), 3)\n",
    "df1.corr().round(3)"
   ]
  },
  {
   "cell_type": "markdown",
   "id": "afc96c2a",
   "metadata": {},
   "source": [
    "Методы `.covariance()` и `correlation()` из библиотеки `statistics` вычисляют ковариацию и корреляция для двух переменных (массивов данных)"
   ]
  },
  {
   "cell_type": "markdown",
   "id": "00282451",
   "metadata": {},
   "source": [
    "## Выборочное среднее\n",
    "метод ``.mean()`` из библиотеки ``pandas``"
   ]
  },
  {
   "cell_type": "code",
   "execution_count": null,
   "id": "ff16e464",
   "metadata": {},
   "outputs": [],
   "source": [
    "df1.mean().round(3)"
   ]
  },
  {
   "cell_type": "markdown",
   "id": "be40988d",
   "metadata": {},
   "source": [
    "метод ``.mean()`` из библиотеки ``statistics`` (для одномерного массива). Результат округляется с использованием функции `round()`"
   ]
  },
  {
   "cell_type": "code",
   "execution_count": null,
   "id": "7cd84abf",
   "metadata": {},
   "outputs": [],
   "source": [
    "round( statistics.mean(df['sleep']), 2)"
   ]
  },
  {
   "cell_type": "markdown",
   "id": "946a3e65",
   "metadata": {},
   "source": [
    "## Стандартное отклонение\n",
    "метод ``.std()`` из библиотеки ``pandas``"
   ]
  },
  {
   "cell_type": "code",
   "execution_count": null,
   "id": "3085af98",
   "metadata": {},
   "outputs": [],
   "source": [
    "df1.std().round(3)"
   ]
  },
  {
   "cell_type": "markdown",
   "id": "99b7586b",
   "metadata": {},
   "source": [
    "метод ``.stdev()`` из библиотеки ``statistics`` (для одномерного массива). Результат округляется с использованием функции `round()`"
   ]
  },
  {
   "cell_type": "code",
   "execution_count": null,
   "id": "05bff630",
   "metadata": {},
   "outputs": [],
   "source": [
    "round( statistics.stdev(df['sleep']), 3)"
   ]
  },
  {
   "cell_type": "markdown",
   "id": "e1d83053",
   "metadata": {},
   "source": [
    "Смещённая дисперсия $Var(X)$: метод `.pstdev()` из библиотеки ``statistics`` (для одномерного массива). Результат округляется с использованием функции `round()`"
   ]
  },
  {
   "cell_type": "code",
   "execution_count": null,
   "id": "41fe3bea",
   "metadata": {},
   "outputs": [],
   "source": [
    "round( statistics.pstdev(df['sleep']), 3)"
   ]
  },
  {
   "cell_type": "markdown",
   "id": "e47fa220",
   "metadata": {},
   "source": [
    "# Медиана\n",
    "метод ``.median()`` из библиотеки ``pandas``"
   ]
  },
  {
   "cell_type": "code",
   "execution_count": null,
   "id": "6a602d04",
   "metadata": {},
   "outputs": [],
   "source": [
    "df1.median()"
   ]
  },
  {
   "cell_type": "markdown",
   "id": "58ce5a47",
   "metadata": {},
   "source": [
    "метод `.median()` из библиотеки ``statistics`` (для одномерного массива)."
   ]
  },
  {
   "cell_type": "code",
   "execution_count": null,
   "id": "3c93dffa",
   "metadata": {},
   "outputs": [],
   "source": [
    "statistics.median(df['sleep'])"
   ]
  },
  {
   "cell_type": "markdown",
   "id": "23903735",
   "metadata": {},
   "source": [
    "# Квантили\n",
    "метод ``.quantile()`` из библиотеки ``pandas``: аргумент $q=0.25$ для первой квартили и $q=0.75$ для третей квартили"
   ]
  },
  {
   "cell_type": "code",
   "execution_count": null,
   "id": "f5aacd9f",
   "metadata": {},
   "outputs": [],
   "source": [
    "df1.quantile(q=0.25), df1.quantile(q=0.75)"
   ]
  },
  {
   "cell_type": "markdown",
   "id": "549cfd9b",
   "metadata": {},
   "source": [
    "Метод `.quantiles(n=4)` из библиотеки `statistics` вычисляет квантили из условия, что они делят выборку на $n$ равных частей (по умолчанию на 4 части)"
   ]
  },
  {
   "cell_type": "code",
   "execution_count": null,
   "id": "f386ad93",
   "metadata": {},
   "outputs": [],
   "source": [
    "statistics.quantiles(data=df['sleep'], n=4)"
   ]
  }
 ],
 "metadata": {
  "kernelspec": {
   "display_name": "Python 3 (ipykernel)",
   "language": "python",
   "name": "python3"
  },
  "language_info": {
   "codemirror_mode": {
    "name": "ipython",
    "version": 3
   },
   "file_extension": ".py",
   "mimetype": "text/x-python",
   "name": "python",
   "nbconvert_exporter": "python",
   "pygments_lexer": "ipython3",
   "version": "3.9.15"
  }
 },
 "nbformat": 4,
 "nbformat_minor": 5
}
