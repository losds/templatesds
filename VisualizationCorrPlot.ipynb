{
 "cells": [
  {
   "cell_type": "markdown",
   "id": "02d43d10",
   "metadata": {},
   "source": [
    "# Визуализация в Python: корреляции"
   ]
  },
  {
   "cell_type": "code",
   "execution_count": null,
   "id": "ab2aa872",
   "metadata": {},
   "outputs": [],
   "source": [
    "import pandas as pd\n",
    "import seaborn as sns\n",
    "import matplotlib.pyplot as plt\n",
    "\n",
    "# Загрузим данные\n",
    "df_sleep=pd.read_csv('sleep75.csv')\n",
    "# Удалим некоторые столбцы по именам переменных\n",
    "df_reduced = df_sleep.drop(columns=['hrwage', 'agesq', 'leis1', 'leis2', 'leis3', 'exper'])\n",
    "# Выберем несколько переменных\n",
    "df_small = df_sleep[ ['sleep', 'totwrk', 'age', 'educ', 'yrsmarr'] ]"
   ]
  },
  {
   "cell_type": "markdown",
   "id": "3608c414",
   "metadata": {},
   "source": [
    "Основные переменные в датафрейме `df_sleep`\n",
    "- `sleep`: продолжительность сна (мин/нед)\n",
    "- `totwrk`: рабочее время (мин/нед)\n",
    "- `age`: возраст (в годах)\n",
    "- `educ`: уровень образрвания в годах\n",
    "- `male`: гендерный фактор (бинарная, =1 для мужчин)\n",
    "- `south`: географический фактор (бинарная, =1 если живёт на юге)"
   ]
  },
  {
   "cell_type": "markdown",
   "id": "96074952",
   "metadata": {},
   "source": [
    "## Первый пример\n",
    "Корреляционная матрица для переменных из датафрейма `df_small` (с округлением)"
   ]
  },
  {
   "cell_type": "code",
   "execution_count": null,
   "id": "3edd50b4",
   "metadata": {},
   "outputs": [],
   "source": [
    "df_small.corr().round(3)"
   ]
  },
  {
   "cell_type": "markdown",
   "id": "570b02c0",
   "metadata": {},
   "source": [
    "Её визуализация с помощью метода `.heatmap()` из библиотеки `seaborn`"
   ]
  },
  {
   "cell_type": "code",
   "execution_count": null,
   "id": "dcd85a47",
   "metadata": {},
   "outputs": [],
   "source": [
    "sns.heatmap(df_small.corr())"
   ]
  },
  {
   "cell_type": "markdown",
   "id": "78f1f6a0",
   "metadata": {},
   "source": [
    "Добавим сами корреляции и изменим палитру"
   ]
  },
  {
   "cell_type": "code",
   "execution_count": null,
   "id": "e6bdf343",
   "metadata": {},
   "outputs": [],
   "source": [
    "sns.heatmap(df_small.corr(), annot=True, cmap='viridis')"
   ]
  },
  {
   "cell_type": "code",
   "execution_count": null,
   "id": "c47fa008",
   "metadata": {},
   "outputs": [],
   "source": [
    "# Другая палитра\n",
    "sns.heatmap(df_small.corr(), annot=True, cmap='cividis')"
   ]
  },
  {
   "cell_type": "markdown",
   "id": "c0566ab5",
   "metadata": {},
   "source": [
    "## Второй пример\n",
    "Корреляционная матрица для переменных из датафрейма `df_reduced` (с округлением)"
   ]
  },
  {
   "cell_type": "code",
   "execution_count": null,
   "id": "dd416428",
   "metadata": {},
   "outputs": [],
   "source": [
    "df_reduced.corr().round(2)"
   ]
  },
  {
   "cell_type": "code",
   "execution_count": null,
   "id": "814d25d7",
   "metadata": {},
   "outputs": [],
   "source": [
    "# Его визуалиазция\n",
    "# Добавлять сами корреляции нет необходимости, не булет наглаядности\n",
    "sns.heatmap(df_reduced.corr())"
   ]
  }
 ],
 "metadata": {
  "kernelspec": {
   "display_name": "Python 3 (ipykernel)",
   "language": "python",
   "name": "python3"
  },
  "language_info": {
   "codemirror_mode": {
    "name": "ipython",
    "version": 3
   },
   "file_extension": ".py",
   "mimetype": "text/x-python",
   "name": "python",
   "nbconvert_exporter": "python",
   "pygments_lexer": "ipython3",
   "version": "3.9.15"
  }
 },
 "nbformat": 4,
 "nbformat_minor": 5
}
