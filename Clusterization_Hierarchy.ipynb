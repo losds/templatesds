{
 "cells": [
  {
   "cell_type": "markdown",
   "id": "50e66520",
   "metadata": {},
   "source": [
    "# Кластеризация в Python: иерархическая"
   ]
  },
  {
   "cell_type": "code",
   "execution_count": null,
   "id": "744d2ed7",
   "metadata": {
    "scrolled": true
   },
   "outputs": [],
   "source": [
    "import pandas as pd\n",
    "import numpy as np\n",
    "from sklearn.decomposition import PCA # Метод главных компонент\n",
    "from sklearn import preprocessing  # функция для предварительной обработки данных\n",
    "from sklearn.cluster import AgglomerativeClustering # Кластеризация иерархическим методом\n",
    "from sklearn.metrics import silhouette_score # Метрика силуэта\n",
    "import matplotlib.pyplot as plt  #импотируем подбиблиотеку и даём ей имя\n",
    "import matplotlib    # для рисования\n",
    "df = pd.read_csv('Labour.csv')"
   ]
  },
  {
   "cell_type": "markdown",
   "id": "0aecfe5f",
   "metadata": {},
   "source": [
    "Основные переменные в датафрейме `df` (данные по бельгийским фирмам за 1996 г.)\n",
    "- `capital`:капитал (в млн евро)\n",
    "- `labour`: число сотрудников\n",
    "- `output`: выпуск (в млн евро)\n",
    "- `wage`: зарплата на одного сотрудника (в тыс евро)"
   ]
  },
  {
   "cell_type": "code",
   "execution_count": null,
   "id": "20d2cc59",
   "metadata": {},
   "outputs": [],
   "source": [
    "df.head(n=6)"
   ]
  },
  {
   "cell_type": "code",
   "execution_count": null,
   "id": "09ab3a10",
   "metadata": {},
   "outputs": [],
   "source": [
    "# Нормализация данных\n",
    "scaler=preprocessing.StandardScaler().fit(df)  # специфицируем нормализацию данных\n",
    "data_rescaled=scaler.transform(df)  # применяем эту нормализацию к исходноыму датасету "
   ]
  },
  {
   "cell_type": "markdown",
   "id": "9bd4d7bd",
   "metadata": {},
   "source": [
    "## Иерархическая кластеризация: заданное количество кластеров \n",
    "Вначале разобьём датасет на заданное число кластеров (например, на 4). Рассмотрим **евклидову метрику между объектами**"
   ]
  },
  {
   "cell_type": "code",
   "execution_count": null,
   "id": "0d4a4891",
   "metadata": {},
   "outputs": [],
   "source": [
    "# Создаём объект класса AgglomerativeClustering с нужными параметрами\n",
    "# affinity= “euclidean”, “l1”, “l2”, “manhattan”, “cosine”\n",
    "hier = AgglomerativeClustering(n_clusters=4, affinity='euclidean')\n",
    "# применяем метод .fit() для кластеризации данных\n",
    "hier.fit(data_rescaled)\n",
    "# кластерная переменная \n",
    "print(hier.labels_)"
   ]
  },
  {
   "cell_type": "code",
   "execution_count": null,
   "id": "ab31ec7e",
   "metadata": {},
   "outputs": [],
   "source": [
    "# визуализируем в исходных переменных\n",
    "df.plot.scatter('capital', 'output', c=hier.labels_, colormap='viridis')"
   ]
  },
  {
   "cell_type": "code",
   "execution_count": null,
   "id": "6a3b1aca",
   "metadata": {},
   "outputs": [],
   "source": [
    "# Визуализация в главных компонентых\n",
    "pca=PCA(n_components=2)\n",
    "pca.fit(data_rescaled)\n",
    "data_pca = pca.transform(data_rescaled)\n",
    "df_pca = pd.DataFrame(data=data_pca, columns = ['principal component 1', 'principal component 2'])\n",
    "df_pca.plot.scatter('principal component 1', 'principal component 2', c=hier.labels_, colormap='viridis')"
   ]
  },
  {
   "cell_type": "markdown",
   "id": "0d188d19",
   "metadata": {},
   "source": [
    "Построим дендрограмму"
   ]
  },
  {
   "cell_type": "code",
   "execution_count": null,
   "id": "72127de0",
   "metadata": {},
   "outputs": [],
   "source": [
    "from scipy.cluster.hierarchy import linkage, dendrogram \n",
    "\n",
    "mergings = linkage(data_rescaled, method='ward')\n",
    "\n",
    "plt.figure(figsize=(15, 15))  # размер картинки\n",
    "\n",
    "dendrogram(mergings, no_labels=True)\n",
    "\n",
    "plt.show()"
   ]
  },
  {
   "cell_type": "markdown",
   "id": "45587fda",
   "metadata": {},
   "source": [
    "## Оптимальное количество кластеров\n",
    "Метод силуэта для евклидова расстояния"
   ]
  },
  {
   "cell_type": "code",
   "execution_count": null,
   "id": "3071e5b1",
   "metadata": {
    "scrolled": false
   },
   "outputs": [],
   "source": [
    "Silhouette_measure = []  # создаем массив длины 0\n",
    "K = range(2,10)          #какие значения  k рассматриваеются\n",
    "for num_clusters in K :\n",
    "    hier = AgglomerativeClustering(n_clusters=num_clusters, affinity='euclidean')\n",
    "    hier.fit(data_rescaled)\n",
    "    Silhouette_measure.append(silhouette_score(data_rescaled, hier.labels_)) \n",
    "plt.plot(K,Silhouette_measure,'bx-')\n",
    "plt.xlabel('Values of K') \n",
    "plt.ylabel('Silhouette measure') \n",
    "plt.title('Оптимальное число кластеров: метод силуэта')\n",
    "plt.show()"
   ]
  },
  {
   "cell_type": "code",
   "execution_count": null,
   "id": "a5276e07",
   "metadata": {},
   "outputs": [],
   "source": [
    "Silhouette_measure = []  # создаем массив длины 0\n",
    "K = range(2,10)          #какие значения  k рассматриваеются\n",
    "for num_clusters in K :\n",
    "    hier = AgglomerativeClustering(n_clusters=num_clusters, affinity='manhattan', linkage='average')\n",
    "    hier.fit(data_rescaled)\n",
    "    Silhouette_measure.append(silhouette_score(data_rescaled, hier.labels_)) \n",
    "plt.plot(K,Silhouette_measure,'bx-')\n",
    "plt.xlabel('Values of K') \n",
    "plt.ylabel('Silhouette measure') \n",
    "plt.title('Оптимальное число кластеров: метод силуэта')\n",
    "plt.show()"
   ]
  },
  {
   "cell_type": "code",
   "execution_count": null,
   "id": "16c0665d",
   "metadata": {},
   "outputs": [],
   "source": [
    "Silhouette_measure = []  # создаем массив длины 0\n",
    "K = range(2,10)          #какие значения  k рассматриваеются\n",
    "for num_clusters in K :\n",
    "    hier = AgglomerativeClustering(n_clusters=num_clusters, affinity='l1', linkage='average')\n",
    "    hier.fit(data_rescaled)\n",
    "    Silhouette_measure.append(silhouette_score(data_rescaled, hier.labels_)) \n",
    "plt.plot(K,Silhouette_measure,'bx-')\n",
    "plt.xlabel('Values of K') \n",
    "plt.ylabel('Silhouette measure') \n",
    "plt.title('Оптимальное число кластеров: метод силуэта')\n",
    "plt.show()"
   ]
  }
 ],
 "metadata": {
  "kernelspec": {
   "display_name": "Python 3 (ipykernel)",
   "language": "python",
   "name": "python3"
  },
  "language_info": {
   "codemirror_mode": {
    "name": "ipython",
    "version": 3
   },
   "file_extension": ".py",
   "mimetype": "text/x-python",
   "name": "python",
   "nbconvert_exporter": "python",
   "pygments_lexer": "ipython3",
   "version": "3.9.15"
  }
 },
 "nbformat": 4,
 "nbformat_minor": 5
}
